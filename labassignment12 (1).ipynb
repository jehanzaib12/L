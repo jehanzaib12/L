{
  "cells": [
    {
      "cell_type": "markdown",
      "metadata": {
        "id": "wMOslx01uMRj"
      },
      "source": [
        "\n",
        "```\n",
        "```\n",
        "# Interactive Visualizations\n",
        "## \n",
        "\n",
        "### Instructions\n",
        "Please answer the following questions as completely as possible using text, code, and the results of code as needed. Format your answers in a Jupyter notebook. To receive full credit, make sure you address every part of the problem, and make sure your document is formatted in a clean and professional way."
      ]
    },
    {
      "cell_type": "markdown",
      "metadata": {
        "id": "8d7yP2IMuMRp"
      },
      "source": [
        "## Problem 0\n",
        "Import the following libraries:"
      ]
    },
    {
      "cell_type": "code",
      "execution_count": null,
      "metadata": {
        "id": "BdWt1N1guMRq"
      },
      "outputs": [],
      "source": [
        "import numpy as np\n",
        "import pandas as pd\n",
        "import plotly.graph_objects as go\n",
        "import plotly.express as px\n",
        "import plotly.graph_objects as go\n",
        "import plotly.figure_factory as ff\n",
        "import dash\n",
        "from jupyter_dash import JupyterDash\n",
        "import dash_core_components as dcc\n",
        "import dash_html_components as html\n",
        "from dash.dependencies import Input, Output\n",
        "external_stylesheets = ['https://codepen.io/chriddyp/pen/bWLwgP.css']"
      ]
    },
    {
      "cell_type": "markdown",
      "metadata": {
        "id": "SnZhPhoTuMRt"
      },
      "source": [
        "For this lab, we will be working with the 2019 General Social Survey one last time."
      ]
    },
    {
      "cell_type": "code",
      "execution_count": null,
      "metadata": {
        "id": "kFeTHb0yuMRt"
      },
      "outputs": [],
      "source": [
        "%%capture\n",
        "gss = pd.read_csv(\"https://github.com/jkropko/DS-6001/raw/master/localdata/gss2018.csv\",\n",
        "                 encoding='cp1252', na_values=['IAP','IAP,DK,NA,uncodeable', 'NOT SURE',\n",
        "                                               'DK', 'IAP, DK, NA, uncodeable', '.a', \"CAN'T CHOOSE\"])"
      ]
    },
    {
      "cell_type": "markdown",
      "metadata": {
        "id": "kXcprXGFuMRv"
      },
      "source": [
        "Here is code that cleans the data and gets it ready to be used for data visualizations:"
      ]
    },
    {
      "cell_type": "code",
      "execution_count": null,
      "metadata": {
        "id": "o9-z8pE8uMRv"
      },
      "outputs": [],
      "source": [
        "mycols = ['id', 'wtss', 'sex', 'educ', 'region', 'age', 'coninc',\n",
        "          'prestg10', 'mapres10', 'papres10', 'sei10', 'satjob',\n",
        "          'fechld', 'fefam', 'fepol', 'fepresch', 'meovrwrk'] \n",
        "gss_clean = gss[mycols]\n",
        "gss_clean = gss_clean.rename({'wtss':'weight', \n",
        "                              'educ':'education', \n",
        "                              'coninc':'income', \n",
        "                              'prestg10':'job_prestige',\n",
        "                              'mapres10':'mother_job_prestige', \n",
        "                              'papres10':'father_job_prestige', \n",
        "                              'sei10':'socioeconomic_index', \n",
        "                              'fechld':'relationship', \n",
        "                              'fefam':'male_breadwinner', \n",
        "                              'fehire':'hire_women', \n",
        "                              'fejobaff':'preference_hire_women', \n",
        "                              'fepol':'men_bettersuited', \n",
        "                              'fepresch':'child_suffer',\n",
        "                              'meovrwrk':'men_overwork'},axis=1)\n",
        "gss_clean.age = gss_clean.age.replace({'89 or older':'89'})\n",
        "gss_clean.age = gss_clean.age.astype('float')"
      ]
    },
    {
      "cell_type": "markdown",
      "metadata": {
        "id": "o3BFkYHsuMRx"
      },
      "source": [
        "The `gss_clean` dataframe now contains the following features:\n",
        "\n",
        "* `id` - a numeric unique ID for each person who responded to the survey\n",
        "* `weight` - survey sample weights\n",
        "* `sex` - male or female\n",
        "* `education` - years of formal education\n",
        "* `region` - region of the country where the respondent lives\n",
        "* `age` - age\n",
        "* `income` - the respondent's personal annual income\n",
        "* `job_prestige` - the respondent's occupational prestige score, as measured by the GSS using the methodology described above\n",
        "* `mother_job_prestige` - the respondent's mother's occupational prestige score, as measured by the GSS using the methodology described above\n",
        "* `father_job_prestige` -the respondent's father's occupational prestige score, as measured by the GSS using the methodology described above\n",
        "* `socioeconomic_index` - an index measuring the respondent's socioeconomic status\n",
        "* `satjob` - responses to \"On the whole, how satisfied are you with the work you do?\"\n",
        "* `relationship` - agree or disagree with: \"A working mother can establish just as warm and secure a relationship with her children as a mother who does not work.\"\n",
        "* `male_breadwinner` - agree or disagree with: \"It is much better for everyone involved if the man is the achiever outside the home and the woman takes care of the home and family.\"\n",
        "* `men_bettersuited` - agree or disagree with: \"Most men are better suited emotionally for politics than are most women.\"\n",
        "* `child_suffer` - agree or disagree with: \"A preschool child is likely to suffer if his or her mother works.\"\n",
        "* `men_overwork` - agree or disagree with: \"Family life often suffers because men concentrate too much on their work.\""
      ]
    },
    {
      "cell_type": "markdown",
      "metadata": {
        "id": "zrSan_NkuMRy"
      },
      "source": [
        "## Problem 1\n",
        "Our goal in this lab is to build a dashboard that presents our findings from the GSS. A dashboard is meant to be shared with an audience, whether that audience is a manager, a client, a potential employer, or the general public. So we need to provide context for our results. One way to provide context is to write text using markdown code.\n",
        "\n",
        "Find one or two websites that discuss the gender wage gap, and write a short paragraph in markdown code summarizing what these sources tell us. Include hyperlinks to these websites. Then write another short paragraph describing what the GSS is, what the data contain, how it was collected, and/or other information that you think your audience ought to know. A good starting point for information about the GSS is here: http://www.gss.norc.org/About-The-GSS\n",
        "\n",
        "Then save the text as a Python string so that you can use the markdown code in your dashboard later.\n",
        "\n",
        "It should go without saying, but no plagiarization! If you summarize a website, make sure you put the summary in your own words. Anything that is copied and pasted from the GSS webpage, Wikipedia, or another website without attribution will receive no credit.\n",
        "\n",
        "(Don't spend too much time on this, and you might want to skip it during the Zoom session and return to it later so that you can focus on working on code with your classmates.) [1 point]"
      ]
    },
    {
      "cell_type": "markdown",
      "metadata": {
        "id": "speqia14uMR0"
      },
      "source": [
        "## Problem 2\n",
        "Generate a table that shows the mean income, occupational prestige, socioeconomic index, and years of education for men and for women. Use a function from a `plotly` module to display a web-enabled version of this table. This table is for presentation purposes, so round every column to two decimal places and use more presentable column names. [3 points]"
      ]
    },
    {
      "cell_type": "markdown",
      "metadata": {
        "id": "2WFICNPHuMR1"
      },
      "source": [
        "## Problem 3\n",
        "Create an interactive barplot that shows the number of men and women who respond with each level of agreement to `male_breadwinner`. Write presentable labels for the x and y-axes, but don't bother with a title because we will be using a subtitle on the dashboard for this graphic. [3 points]"
      ]
    },
    {
      "cell_type": "markdown",
      "metadata": {
        "id": "oqTixdnhuMR2"
      },
      "source": [
        "## Problem 4\n",
        "Create an interactive scatterplot with `job_prestige` on the x-axis and `income` on the y-axis. Color code the points by `sex` and make sure that the figure includes a legend for these colors. Also include two best-fit lines, one for men and one for women. Finally, include hover data that shows us the values of `education` and `socioeconomic_index` for any point the mouse hovers over. Write presentable labels for the x and y-axes, but don't bother with a title because we will be using a subtitle on the dashboard for this graphic. [3 points]"
      ]
    },
    {
      "cell_type": "markdown",
      "metadata": {
        "id": "lf0jccHVuMR2"
      },
      "source": [
        "## Problem 5\n",
        "Create two interactive box plots: one that shows the distribution of `income` for men and for women, and one that shows the distribution of `job_prestige` for men and for women. Write presentable labels for the axis that contains `income` or `job_prestige` and remove the label for `sex`. Also, turn off the legend. Don't bother with titles because we will be using subtitles on the dashboard for these graphics. [3 points]"
      ]
    },
    {
      "cell_type": "markdown",
      "metadata": {
        "id": "tnPfLl14uMR3"
      },
      "source": [
        "## Problem 6\n",
        "Create a new dataframe that contains only `income`, `sex`, and `job_prestige`. Then create a new feature in this dataframe that breaks `job_prestige` into six categories with equally sized ranges. Finally, drop all rows with any missing values in this dataframe.\n",
        "\n",
        "Then create a facet grid with three rows and two columns in which each cell contains an interactive box plot comparing the income distributions of men and women for each of these new categories. \n",
        "\n",
        "(If you want men to be represented by blue and women by red, you can include `color_discrete_map = {'male':'blue', 'female':'red'}` in your plotting function. Or use different colors if you want!) [3 points]"
      ]
    },
    {
      "cell_type": "markdown",
      "metadata": {
        "id": "gE9E95hBuMR3"
      },
      "source": [
        "## Problem 7\n",
        "Create a dashboard that displays the following elements:\n",
        "\n",
        "* A descriptive title\n",
        "\n",
        "* The markdown text you wrote in problem 1\n",
        "\n",
        "* The table you made in problem 2\n",
        "\n",
        "* The barplot you made in problem 3\n",
        "\n",
        "* The scatterplot you made in problem 4\n",
        "\n",
        "* The two boxplots you made in problem 5 side-by-side\n",
        "\n",
        "* The faceted boxplots you made in problem 6\n",
        "\n",
        "* Subtitles for all of the above elements\n",
        "\n",
        "Use `JupyterDash` to display this dashboard directly in your Jupyter notebook.\n",
        "\n",
        "Any working dashboard that displays all of the above elements will receive full credit. [4 points]"
      ]
    },
    {
      "cell_type": "markdown",
      "metadata": {
        "id": "KUDTTp-AuMR4"
      },
      "source": [
        "## Extra Credit (up to 10 bonus points)\n",
        "Dashboards are all about good design, functionality, and accessability. For this extra credit problem, create another version of the dashboard you built for problem 7, but take extra steps to improve the appearance of the dashboard, add user-inputs, and host it on the internet with its own URL.\n",
        "\n",
        "**Challenge 1**: Be creative and use a layout that significantly departs from the one used for the ANES data in the module 12 notebook. A good place to look for inspiration is the [Dash gallery](https://dash-gallery.plotly.host/Portal/). We will award up to 3 bonus points for creativity, novelty, and style.\n",
        "\n",
        "**Challenge 2**: Alter the barplot from problem 3 to include user inputs. Create two dropdown menus on the dashboard. The first one should allow a user to display bars for the categories of `satjob`, `relationship`, `male_breadwinner`, `men_bettersuited`, `child_suffer`, or `men_overwork`. The second one should allow a user to group the bars by `sex`, `region`, or `education`. After choosing a feature for the bars and one for the grouping, program the barplot to update automatically to display the user-inputted features. One bonus point will be awarded for a good effort, and 3 bonus points will be awarded for a working user-input barplot in the dashboard.\n",
        "\n",
        "**Challenge 3**: Follow the steps listed in the module notebook to deploy your dashboard on Heroku. 1 bonus point will be awarded for a Heroku link to an app that isn't working. 4 bonus points will be awarded for a working Heroku link."
      ]
    }
  ],
  "metadata": {
    "kernelspec": {
      "display_name": "Python 3",
      "language": "python",
      "name": "python3"
    },
    "language_info": {
      "codemirror_mode": {
        "name": "ipython",
        "version": 3
      },
      "file_extension": ".py",
      "mimetype": "text/x-python",
      "name": "python",
      "nbconvert_exporter": "python",
      "pygments_lexer": "ipython3",
      "version": "3.7.6"
    },
    "colab": {
      "name": "labassignment12.ipynb",
      "provenance": []
    }
  },
  "nbformat": 4,
  "nbformat_minor": 0
}