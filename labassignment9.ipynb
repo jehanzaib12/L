{
  "cells": [
    {
      "cell_type": "markdown",
      "metadata": {
        "id": "EWUS9GsfOQWi"
      },
      "source": [
        "# Data Management Using `pandas`, Part 2\n",
        "\n",
        "### Instructions\n",
        "Please answer the following questions as completely as possible using text, code, and the results of code as needed. Format your answers in a Jupyter notebook. To receive full credit, make sure you address every part of the problem, and make sure your document is formatted in a clean and professional way.\n",
        "\n",
        "## Problem 0\n",
        "Import the following libraries:"
      ]
    },
    {
      "cell_type": "code",
      "execution_count": null,
      "metadata": {
        "id": "oGZ-D4eIOQWo"
      },
      "outputs": [],
      "source": [
        "import numpy as np\n",
        "import pandas as pd"
      ]
    },
    {
      "cell_type": "markdown",
      "metadata": {
        "id": "u9mx0jTbOQWr"
      },
      "source": [
        "## Problem 1\n",
        "In the first part of this lab, the goal is to merge data from the United Nations World Health Organization (https://www.who.int/who-un/en/) with data from the Varieties of Democracy Project (https://www.v-dem.net/en/). The UN-WHO studies health outcomes in a cross-national context, and V-Dem studies the quality of democracy as it changes across countries and over time. We would want to merge these two datasets together if we wanted to study whether democratic quality can predict health outcomes.\n",
        "\n",
        "The UN data contains cross-national time series data from the United Nations and World Health Organization, and includes three features:\n",
        "\n",
        "* The number of physicians per 1000 people\n",
        "* The percent of the population that is malnourished\n",
        "* Health expenditure per capita\n",
        "\n",
        "The VDem data comes from the Varieties of Democracy project, which aims to measure the quality of democracy and the amount of corruption in different countries over time (https://www.v-dem.net/en/data/data-version-8/). This data file contains indices regarding a country’s democractic quality, level of civil liberites, and corruption. It also contains a binary indicator that separates countries into democratic and nondemocratic states, and it includes a categorizaton of the corruption scale.\n",
        "\n",
        "The URLs for the two datasets are:"
      ]
    },
    {
      "cell_type": "code",
      "execution_count": null,
      "metadata": {
        "id": "DzgPNisqOQWt"
      },
      "outputs": [],
      "source": [
        "undata_url = \"https://github.com/jkropko/DS-6001/raw/master/localdata/UNdata.csv\"\n",
        "VDem_url = \"https://github.com/jkropko/DS-6001/raw/master/localdata/vdem.csv\""
      ]
    },
    {
      "cell_type": "markdown",
      "metadata": {
        "id": "iOU0sym7OQWu"
      },
      "source": [
        "### Part a\n",
        "Load both CSV files. Make sure to check whether there are rows that should not be included in the dataframe, and whether there are missing codes that should be replaced with `NaN`. Fix these problems at the data loading stage, if you can. (Don't worry about column names or category labels yet.) Also, the UN data covers the years 1960-2014, and the VDem data covers the years 1960-2015. To make the timeframe match up, delete rows in the VDem data from 2015. (1 point)"
      ]
    },
    {
      "cell_type": "markdown",
      "metadata": {
        "id": "8hBasvLxOQWv"
      },
      "source": [
        "### Part b\n",
        "The UN data contain certain rows that refer to groups of countries instead of to individual countries. Here’s a list of these non-countries:"
      ]
    },
    {
      "cell_type": "code",
      "execution_count": null,
      "metadata": {
        "id": "_osIYme9OQWw"
      },
      "outputs": [],
      "source": [
        "noncountries = ['Arab World',  'Caribbean small states',  'Central Europe and the Baltics', \n",
        "    'Early-demographic dividend',  'East Asia & Pacific', 'East Asia & Pacific (excluding high income)', \n",
        "    'East Asia & Pacific (IDA & IBRD countries)', 'Euro area', 'Europe & Central Asia', \n",
        "    'Europe & Central Asia (excluding high income)', 'Europe & Central Asia (IDA & IBRD countries)', 'European Union', \n",
        "    'Fragile and conflict affected situations', 'Heavily indebted poor countries (HIPC)', \n",
        "    'High income', 'Late-demographic dividend', 'Latin America & Caribbean', \n",
        "    'Latin America & Caribbean (excluding high income)', \n",
        "    'Latin America & the Caribbean (IDA & IBRD countries)', 'Least developed countries: UN classification', \n",
        "    'Low & middle income', 'Low income', 'Lower middle income', \n",
        "    'Middle East & North Africa', 'Middle East & North Africa (excluding high income)',\n",
        "    'Middle East & North Africa (IDA & IBRD countries)', \n",
        "    'Middle income', 'North America', 'OECD members', \n",
        "    'Other small states', 'Pacific island small states', 'Post-demographic dividend', \n",
        "    'Pre-demographic dividend', 'Small states', 'South Asia', \n",
        "    'South Asia (IDA & IBRD)', 'Sub-Saharan Africa', 'Sub-Saharan Africa (excluding high income)', \n",
        "    'Sub-Saharan Africa (IDA & IBRD countries)', 'Upper middle income', 'World']"
      ]
    },
    {
      "cell_type": "markdown",
      "metadata": {
        "id": "rC7k_Wq_OQWx"
      },
      "source": [
        "We can use `.query()` to remove the non-countries from the data, but in this case there are complications due to the space in the name of the column `Country Name` and the use of an external list. So here let's use an alternative method:\n",
        "\n",
        "First, apply the `.isin(noncountries)` method to the `Country Name` column of the UN data to create a series of values that are `True` if the `Country Name` on a row is one of the non-countries, and `False` otherwise. Second, use the `~` operator to negate the logical values: turn `True` to `False` and vice versa. Finally, pass this logical series to the `.loc[]` attribute of the dataframe to drop the rows that refer to these noncountries from the UN data. (1 point)\n",
        "\n",
        "(If you wanted to use `.query()`, you would first need to rename `Country Name` to remove the space, then you can use an `@` in front of `noncountries` to refer to the external list. But for this problem follow the instructions listed above.)"
      ]
    },
    {
      "cell_type": "markdown",
      "metadata": {
        "id": "7KdrYC47OQWy"
      },
      "source": [
        "### Part c\n",
        "Reshape the UN data to move the years from the columns to the rows. (Once the years are in the rows, they will have values such as \"1960 [YR1960]\".) (2 points)"
      ]
    },
    {
      "cell_type": "markdown",
      "metadata": {
        "id": "VX_NjniNOQW0"
      },
      "source": [
        "### Part d\n",
        "Rename the `variable` column to `year`. Then use string methods to remove the ends such as \"[YR1960]\" from the values of the new `year` column and convert the column to an integer data type.\n",
        "\n",
        "Also, for whatever reason, real world data often contains multiple variables that are just different representations of the same information. In this case, the `Series Name` and `Series Code` variables tell us exactly the same thing, and the `Country Name` and `Country Code` variables tell us exactly the same thing. Unless I have a very good reason to keep both, I generally prefer to drop variables that are redundant and coded in a less helpful way. So drop `Series Code` and `Country Code`. (2 points)"
      ]
    },
    {
      "cell_type": "markdown",
      "metadata": {
        "id": "EMe403EFOQW1"
      },
      "source": [
        "### Part e\n",
        "Reshape the data to move the values of `Series Name` to separate columns. Make sure all of the columns exist in the dataframe after reshaping and are not stored in a row index or multi-index. Then rename the columns so that all of the columns have concise and descriptive names. (2 points)"
      ]
    },
    {
      "cell_type": "markdown",
      "metadata": {
        "id": "7Dn3rvJnOQW1"
      },
      "source": [
        "### Part f\n",
        "Next we are going to join the cleaned UN data with the VDem data. In a perfect world, both datasets would include a shared numeric country ID field that we can use to match countries in one dataset to countries in the other. Unfortunately the UN data identifies the countries only by name. Worse still, while there is a big overlap the two datasets cover different sets of countries.\n",
        "\n",
        "First decide whether this merge is a one-to-one, one-to-many, many-to-one, or many-to-many merge and describe your rationale in words.\n",
        "\n",
        "Then perform a test merge that checks whether your expectation that the merge is one-to-one, one-to-many, many-to-one, or many-to-many is confirmed, and reports whether each row is matched, appears only in the UN data, or appears only in the VDem data. Use the `.unique()` or `.value_counts()` method to display the names of the countries that are not matched. (2 points)"
      ]
    },
    {
      "cell_type": "markdown",
      "metadata": {
        "id": "1hNef1HwOQW2"
      },
      "source": [
        "### Part g\n",
        "There are many unmatched rows in this merge. There are three reasons why rows failed to match:\n",
        "* Differences in geographical coverage: for example, the VDem data includes Taiwan, but the UN data does not\n",
        "* Differences in time coverage: for example, the UN data includes records for France every year from 1970 through 2014, and VDem includes rows for France from 1960 to 2012, leaving 12 rows for France without matching years\n",
        "* Differences in spelling: for example, South Korea is called \"Korea, Rep.\" in the UN data and \"Korea_South\" in the VDem data.\n",
        "\n",
        "We can't do anything about differences in geographic or temporal coverage. But we can recode some country names to account for differences in spelling and to match more rows that should match. Here is a list of differently spelled countries:\n",
        "\n",
        "* \"Burma_Myanmar\" in VDem is \"Myanmar\" in the UN data\n",
        "* \"Cape Verde\" in VDem is \"Cabo Verde\" in the UN data\n",
        "* \"Congo_Democratic Republic of\" in VDem is \"Congo, Dem. Rep.\" in the UN data\n",
        "* \"Congo_Republic of the\" in VDem is \"Congo, Rep.\" in the UN data\n",
        "* \"East Timor\" in VDem is \"Timor-Leste\" in the UN data\n",
        "* \"Egypt\" in VDem is \"Egypt, Arab Rep.\" in the UN data\n",
        "* \"Gambia\" in VDem is \"Gambia, The\" in the UN data\n",
        "* \"Iran\" in VDem is \"Iran, Islamic Rep.\" in the UN data\n",
        "* \"Ivory Coast\" in VDem is \"Cote d’Ivoire\" in the UN data\n",
        "* \"Korea_North\" in VDem is \"Korea, Dem. People’s Rep.\" in the UN data\n",
        "* \"Korea_South\" in VDem is \"Korea, Rep.\" in the UN data\n",
        "* \"Kyrgyzstan\" in VDem is \"Kyrgyz Republic\" in the UN data\n",
        "* \"Laos\" in VDem is \"Lao PDR\" in the UN data\n",
        "* \"Macedonia\" in VDem is \"Macedonia, FYR\" in the UN data\n",
        "* \"Palestine_West_Bank\" in VDem is \"West Bank and Gaza\" in the UN Data (there is also \"Palestine_Gaza\" in VDem, but since the UN combines data for the West Bank and Gaza, let's just use \"Palestine_West_Bank\" for this assignment)\n",
        "* \"Russia\" in VDem is \"Russian Federation\" in the UN data\n",
        "* \"Slovakia\" in VDem is \"Slovak Republic\" in the UN data\n",
        "* \"Syria\" in VDem is \"Syrian Arab Republic\" in the UN data\n",
        "* \"Venezuela\" in VDem is \"Venezuela, RB\" in the UN data\n",
        "* \"Vietnam_Democratic Republic of\" in VDem is \"Vietnam\" in the UN data\n",
        "* \"Yemen\" in VDem is \"Yemen, Rep.\" in the UN data\n",
        "\n",
        "Recode the country names listed above in one of the two dataframes to match the names in the other dataframe. Then perform an inner join of the two dataframes. Some rows will be dropped because of differences in coverage, but no rows will be dropped because of differences in spelling. (2 points)"
      ]
    },
    {
      "cell_type": "markdown",
      "metadata": {
        "id": "LDak7R57OQW3"
      },
      "source": [
        "## Problem 2\n",
        "[Kickstarter](https://www.kickstarter.com/) is a website in which people can pledge financial support for creative projects. Patrons are only charged if a project raises enough money to meet a pre-specified goal, and projects can offer items as \"rewards\" for patrons who contribute at particular levels. One interesting aspect of Kickstarter is the ability to [search projects by \"ending soon\"](https://www.kickstarter.com/discover/advanced?sort=end_date). If you have a few dollars to spare and want to feel like a hero, you can swoop in at the last minute to contribute enough for a project to meet its goal.\n",
        "\n",
        "Cathie So created a project on Kaggle in which she [scraped Kickstarter](https://www.kaggle.com/socathie/kickstarter-project-statistics/data?select=live.csv) and collected data on 4000 live projects (projects that were currently collecting pledges from patrons) as of October 10, 2016, at 5pm Pacific time. The data are here:"
      ]
    },
    {
      "cell_type": "code",
      "execution_count": null,
      "metadata": {
        "id": "51NI8L2hOQW3",
        "outputId": "a35c4a2f-7880-4c89-acf6-9c10880df0c3"
      },
      "outputs": [
        {
          "data": {
            "text/html": [
              "<div>\n",
              "<style scoped>\n",
              "    .dataframe tbody tr th:only-of-type {\n",
              "        vertical-align: middle;\n",
              "    }\n",
              "\n",
              "    .dataframe tbody tr th {\n",
              "        vertical-align: top;\n",
              "    }\n",
              "\n",
              "    .dataframe thead th {\n",
              "        text-align: right;\n",
              "    }\n",
              "</style>\n",
              "<table border=\"1\" class=\"dataframe\">\n",
              "  <thead>\n",
              "    <tr style=\"text-align: right;\">\n",
              "      <th></th>\n",
              "      <th>Unnamed: 0</th>\n",
              "      <th>amt.pledged</th>\n",
              "      <th>blurb</th>\n",
              "      <th>by</th>\n",
              "      <th>country</th>\n",
              "      <th>currency</th>\n",
              "      <th>end.time</th>\n",
              "      <th>location</th>\n",
              "      <th>percentage.funded</th>\n",
              "      <th>state</th>\n",
              "      <th>title</th>\n",
              "      <th>type</th>\n",
              "      <th>url</th>\n",
              "    </tr>\n",
              "  </thead>\n",
              "  <tbody>\n",
              "    <tr>\n",
              "      <th>0</th>\n",
              "      <td>0</td>\n",
              "      <td>15823.0</td>\n",
              "      <td>\\n'Catalysts, Explorers &amp; Secret Keepers: Wome...</td>\n",
              "      <td>Museum of Science Fiction</td>\n",
              "      <td>US</td>\n",
              "      <td>usd</td>\n",
              "      <td>2016-11-01T23:59:00-04:00</td>\n",
              "      <td>Washington, DC</td>\n",
              "      <td>186</td>\n",
              "      <td>DC</td>\n",
              "      <td>Catalysts, Explorers &amp; Secret Keepers: Women o...</td>\n",
              "      <td>Town</td>\n",
              "      <td>/projects/1608905146/catalysts-explorers-and-s...</td>\n",
              "    </tr>\n",
              "    <tr>\n",
              "      <th>1</th>\n",
              "      <td>1</td>\n",
              "      <td>6859.0</td>\n",
              "      <td>\\nA unique handmade picture book for kids &amp; ar...</td>\n",
              "      <td>Tyrone Wells &amp; Broken Eagle, LLC</td>\n",
              "      <td>US</td>\n",
              "      <td>usd</td>\n",
              "      <td>2016-11-25T01:13:33-05:00</td>\n",
              "      <td>Portland, OR</td>\n",
              "      <td>8</td>\n",
              "      <td>OR</td>\n",
              "      <td>The Whatamagump (a hand-crafted story picture ...</td>\n",
              "      <td>Town</td>\n",
              "      <td>/projects/thewhatamagump/the-whatamagump-a-han...</td>\n",
              "    </tr>\n",
              "    <tr>\n",
              "      <th>2</th>\n",
              "      <td>2</td>\n",
              "      <td>17906.0</td>\n",
              "      <td>\\nA horror comedy about a repairman who was in...</td>\n",
              "      <td>Tessa Stone</td>\n",
              "      <td>US</td>\n",
              "      <td>usd</td>\n",
              "      <td>2016-11-23T23:00:00-05:00</td>\n",
              "      <td>Los Angeles, CA</td>\n",
              "      <td>102</td>\n",
              "      <td>CA</td>\n",
              "      <td>Not Drunk Enough Volume 1!</td>\n",
              "      <td>Town</td>\n",
              "      <td>/projects/1890925998/not-drunk-enough-volume-1...</td>\n",
              "    </tr>\n",
              "    <tr>\n",
              "      <th>3</th>\n",
              "      <td>3</td>\n",
              "      <td>67081.0</td>\n",
              "      <td>\\nThe Johnny Wander autobio omnibus you've all...</td>\n",
              "      <td>Johnny Wander</td>\n",
              "      <td>US</td>\n",
              "      <td>usd</td>\n",
              "      <td>2016-11-01T23:50:00-04:00</td>\n",
              "      <td>Brooklyn, NY</td>\n",
              "      <td>191</td>\n",
              "      <td>NY</td>\n",
              "      <td>Our Cats Are More Famous Than Us: A Johnny Wan...</td>\n",
              "      <td>County</td>\n",
              "      <td>/projects/746734715/our-cats-are-more-famous-t...</td>\n",
              "    </tr>\n",
              "    <tr>\n",
              "      <th>4</th>\n",
              "      <td>4</td>\n",
              "      <td>32772.0</td>\n",
              "      <td>\\nThe vision for this project is the establish...</td>\n",
              "      <td>Beau's All Natural Brewing Company</td>\n",
              "      <td>RW</td>\n",
              "      <td>cad</td>\n",
              "      <td>2016-11-18T23:05:48-05:00</td>\n",
              "      <td>Kigali, Rwanda</td>\n",
              "      <td>34</td>\n",
              "      <td>Kigali Province</td>\n",
              "      <td>The Rwanda Craft Brewery Project</td>\n",
              "      <td>Town</td>\n",
              "      <td>/projects/beaus/the-rwanda-craft-brewery-proje...</td>\n",
              "    </tr>\n",
              "    <tr>\n",
              "      <th>...</th>\n",
              "      <td>...</td>\n",
              "      <td>...</td>\n",
              "      <td>...</td>\n",
              "      <td>...</td>\n",
              "      <td>...</td>\n",
              "      <td>...</td>\n",
              "      <td>...</td>\n",
              "      <td>...</td>\n",
              "      <td>...</td>\n",
              "      <td>...</td>\n",
              "      <td>...</td>\n",
              "      <td>...</td>\n",
              "      <td>...</td>\n",
              "    </tr>\n",
              "    <tr>\n",
              "      <th>3995</th>\n",
              "      <td>3995</td>\n",
              "      <td>4403.0</td>\n",
              "      <td>\\nEARTH IS BUT ONE FRUIT ON THE TREE OF LIFE. ...</td>\n",
              "      <td>Lewis Brown</td>\n",
              "      <td>US</td>\n",
              "      <td>usd</td>\n",
              "      <td>2016-11-20T01:10:00-05:00</td>\n",
              "      <td>Denver, CO</td>\n",
              "      <td>88</td>\n",
              "      <td>CO</td>\n",
              "      <td>BROWN HORNET OMNIVERSE</td>\n",
              "      <td>Town</td>\n",
              "      <td>/projects/brownhornetomni/brown-hornet-omniver...</td>\n",
              "    </tr>\n",
              "    <tr>\n",
              "      <th>3996</th>\n",
              "      <td>3996</td>\n",
              "      <td>1304.0</td>\n",
              "      <td>\\nImagine designing an item with an easy-to-us...</td>\n",
              "      <td>Your Expressions</td>\n",
              "      <td>US</td>\n",
              "      <td>usd</td>\n",
              "      <td>2016-11-15T16:00:00-05:00</td>\n",
              "      <td>San Francisco, CA</td>\n",
              "      <td>5</td>\n",
              "      <td>CA</td>\n",
              "      <td>3D Pixie - App to Design Personalized Jewelry</td>\n",
              "      <td>Town</td>\n",
              "      <td>/projects/yourexpressions/3d-pixie-app-to-crea...</td>\n",
              "    </tr>\n",
              "    <tr>\n",
              "      <th>3997</th>\n",
              "      <td>3997</td>\n",
              "      <td>1.0</td>\n",
              "      <td>\\nUnique themed London venue and hostel for 9g...</td>\n",
              "      <td>Martin Wojtala</td>\n",
              "      <td>GB</td>\n",
              "      <td>gbp</td>\n",
              "      <td>2016-10-30T09:36:06-04:00</td>\n",
              "      <td>London, UK</td>\n",
              "      <td>0</td>\n",
              "      <td>England</td>\n",
              "      <td>9HUB - London</td>\n",
              "      <td>Town</td>\n",
              "      <td>/projects/1132099243/9hub-london?ref=discovery</td>\n",
              "    </tr>\n",
              "    <tr>\n",
              "      <th>3998</th>\n",
              "      <td>3998</td>\n",
              "      <td>10.0</td>\n",
              "      <td>\\nAll in One Phone Case\\n</td>\n",
              "      <td>All in One Phone Case</td>\n",
              "      <td>US</td>\n",
              "      <td>usd</td>\n",
              "      <td>2016-11-17T12:11:26-05:00</td>\n",
              "      <td>Tallahassee, FL</td>\n",
              "      <td>0</td>\n",
              "      <td>FL</td>\n",
              "      <td>All in One Phone Case</td>\n",
              "      <td>Town</td>\n",
              "      <td>/projects/203104559/all-in-one-phone-case?ref=...</td>\n",
              "    </tr>\n",
              "    <tr>\n",
              "      <th>3999</th>\n",
              "      <td>3999</td>\n",
              "      <td>35.0</td>\n",
              "      <td>\\nLuxury Sunglasses built with Titanium, Carbo...</td>\n",
              "      <td>Carlos Araujo</td>\n",
              "      <td>US</td>\n",
              "      <td>usd</td>\n",
              "      <td>2016-12-11T00:11:01-05:00</td>\n",
              "      <td>New York, NY</td>\n",
              "      <td>0</td>\n",
              "      <td>NY</td>\n",
              "      <td>Edward &amp; Lux- Classic &amp; Timeless Aviator Sungl...</td>\n",
              "      <td>Town</td>\n",
              "      <td>/projects/1833705733/edward-and-lux-classic-an...</td>\n",
              "    </tr>\n",
              "  </tbody>\n",
              "</table>\n",
              "<p>4000 rows × 13 columns</p>\n",
              "</div>"
            ],
            "text/plain": [
              "      Unnamed: 0  amt.pledged  \\\n",
              "0              0      15823.0   \n",
              "1              1       6859.0   \n",
              "2              2      17906.0   \n",
              "3              3      67081.0   \n",
              "4              4      32772.0   \n",
              "...          ...          ...   \n",
              "3995        3995       4403.0   \n",
              "3996        3996       1304.0   \n",
              "3997        3997          1.0   \n",
              "3998        3998         10.0   \n",
              "3999        3999         35.0   \n",
              "\n",
              "                                                  blurb  \\\n",
              "0     \\n'Catalysts, Explorers & Secret Keepers: Wome...   \n",
              "1     \\nA unique handmade picture book for kids & ar...   \n",
              "2     \\nA horror comedy about a repairman who was in...   \n",
              "3     \\nThe Johnny Wander autobio omnibus you've all...   \n",
              "4     \\nThe vision for this project is the establish...   \n",
              "...                                                 ...   \n",
              "3995  \\nEARTH IS BUT ONE FRUIT ON THE TREE OF LIFE. ...   \n",
              "3996  \\nImagine designing an item with an easy-to-us...   \n",
              "3997  \\nUnique themed London venue and hostel for 9g...   \n",
              "3998                          \\nAll in One Phone Case\\n   \n",
              "3999  \\nLuxury Sunglasses built with Titanium, Carbo...   \n",
              "\n",
              "                                      by country currency  \\\n",
              "0              Museum of Science Fiction      US      usd   \n",
              "1       Tyrone Wells & Broken Eagle, LLC      US      usd   \n",
              "2                            Tessa Stone      US      usd   \n",
              "3                          Johnny Wander      US      usd   \n",
              "4     Beau's All Natural Brewing Company      RW      cad   \n",
              "...                                  ...     ...      ...   \n",
              "3995                         Lewis Brown      US      usd   \n",
              "3996                    Your Expressions      US      usd   \n",
              "3997                      Martin Wojtala      GB      gbp   \n",
              "3998               All in One Phone Case      US      usd   \n",
              "3999                       Carlos Araujo      US      usd   \n",
              "\n",
              "                       end.time           location  percentage.funded  \\\n",
              "0     2016-11-01T23:59:00-04:00     Washington, DC                186   \n",
              "1     2016-11-25T01:13:33-05:00       Portland, OR                  8   \n",
              "2     2016-11-23T23:00:00-05:00    Los Angeles, CA                102   \n",
              "3     2016-11-01T23:50:00-04:00       Brooklyn, NY                191   \n",
              "4     2016-11-18T23:05:48-05:00     Kigali, Rwanda                 34   \n",
              "...                         ...                ...                ...   \n",
              "3995  2016-11-20T01:10:00-05:00         Denver, CO                 88   \n",
              "3996  2016-11-15T16:00:00-05:00  San Francisco, CA                  5   \n",
              "3997  2016-10-30T09:36:06-04:00         London, UK                  0   \n",
              "3998  2016-11-17T12:11:26-05:00    Tallahassee, FL                  0   \n",
              "3999  2016-12-11T00:11:01-05:00       New York, NY                  0   \n",
              "\n",
              "                state                                              title  \\\n",
              "0                  DC  Catalysts, Explorers & Secret Keepers: Women o...   \n",
              "1                  OR  The Whatamagump (a hand-crafted story picture ...   \n",
              "2                  CA                         Not Drunk Enough Volume 1!   \n",
              "3                  NY  Our Cats Are More Famous Than Us: A Johnny Wan...   \n",
              "4     Kigali Province                   The Rwanda Craft Brewery Project   \n",
              "...               ...                                                ...   \n",
              "3995               CO                             BROWN HORNET OMNIVERSE   \n",
              "3996               CA      3D Pixie - App to Design Personalized Jewelry   \n",
              "3997          England                                      9HUB - London   \n",
              "3998               FL                              All in One Phone Case   \n",
              "3999               NY  Edward & Lux- Classic & Timeless Aviator Sungl...   \n",
              "\n",
              "        type                                                url  \n",
              "0       Town  /projects/1608905146/catalysts-explorers-and-s...  \n",
              "1       Town  /projects/thewhatamagump/the-whatamagump-a-han...  \n",
              "2       Town  /projects/1890925998/not-drunk-enough-volume-1...  \n",
              "3     County  /projects/746734715/our-cats-are-more-famous-t...  \n",
              "4       Town  /projects/beaus/the-rwanda-craft-brewery-proje...  \n",
              "...      ...                                                ...  \n",
              "3995    Town  /projects/brownhornetomni/brown-hornet-omniver...  \n",
              "3996    Town  /projects/yourexpressions/3d-pixie-app-to-crea...  \n",
              "3997    Town     /projects/1132099243/9hub-london?ref=discovery  \n",
              "3998    Town  /projects/203104559/all-in-one-phone-case?ref=...  \n",
              "3999    Town  /projects/1833705733/edward-and-lux-classic-an...  \n",
              "\n",
              "[4000 rows x 13 columns]"
            ]
          },
          "execution_count": 27,
          "metadata": {},
          "output_type": "execute_result"
        }
      ],
      "source": [
        "kickstarter = pd.read_csv(\"https://github.com/jkropko/DS-6001/raw/master/localdata/live.csv\")\n",
        "kickstarter"
      ]
    },
    {
      "cell_type": "markdown",
      "metadata": {
        "id": "GHEi6D1BOQW5"
      },
      "source": [
        "### Part a\n",
        "Notice that the `end.time` column, the date and time at which the project stops accepting pledges, is formatted as follows:\n",
        "```\n",
        "2016-11-01T23:59:00-04:00\n",
        "```\n",
        "This formatting is \"YYYY-MM-DDThh:mm:ss-TZD\": four digits for the year, a dash, two digits for the month, another dash, and two digits for the day; the \"T\" separates the dates from the time; two digits for the hour, minute and second, separated by colons; and the time zone expressed as hours difference from Greenwich mean time (also called UTC), and -04:00 is four hours earlier than UTC, for example.\n",
        "\n",
        "But `end.time` is also currently read as a string, with `object` data type:"
      ]
    },
    {
      "cell_type": "code",
      "execution_count": null,
      "metadata": {
        "id": "jPXOaw5IOQW6",
        "outputId": "4c9838a9-3c1d-43f4-944e-583f95c03a9b"
      },
      "outputs": [
        {
          "data": {
            "text/plain": [
              "Unnamed: 0             int64\n",
              "amt.pledged          float64\n",
              "blurb                 object\n",
              "by                    object\n",
              "country               object\n",
              "currency              object\n",
              "end.time              object\n",
              "location              object\n",
              "percentage.funded      int64\n",
              "state                 object\n",
              "title                 object\n",
              "type                  object\n",
              "url                   object\n",
              "dtype: object"
            ]
          },
          "execution_count": 28,
          "metadata": {},
          "output_type": "execute_result"
        }
      ],
      "source": [
        "kickstarter.dtypes"
      ]
    },
    {
      "cell_type": "markdown",
      "metadata": {
        "id": "GsVsYTxsOQW7"
      },
      "source": [
        "Convert `end.time` to a timestamp, and extract the month, day, year, hour, minute, and second of the end time. To allow the `pd.to_datetime()` function to read timezones, use the `utc=True` argument. (2 points)"
      ]
    },
    {
      "cell_type": "markdown",
      "metadata": {
        "id": "B8klVJD6OQW8"
      },
      "source": [
        "### Part b\n",
        "Create a dataframe with one row for every ending day in the `kickstarter` data that reports the average amount pledged (`amt.pledged`) on each day. Sort the rows in descending order by average amount pledged, and display the five days with the highest averages. (2 points)"
      ]
    },
    {
      "cell_type": "markdown",
      "metadata": {
        "id": "ShMXql4aOQW8"
      },
      "source": [
        "### Part c\n",
        "Display the text of the longest `blurb` in the data. (2 points)"
      ]
    },
    {
      "cell_type": "markdown",
      "metadata": {
        "id": "Y0aeYsO5OQW-"
      },
      "source": [
        "### Part d\n",
        "How many blurbs for projects with end dates between November 15, 2016 and December 7, 2016 contain the phrase \"science fiction\"? [Hint: Don't forget to make this search case-insensitive and to sort the `kickstarter` dataframe by `end.time` before setting `end.time` as the index.] (2 points)"
      ]
    }
  ],
  "metadata": {
    "kernelspec": {
      "display_name": "Python 3",
      "language": "python",
      "name": "python3"
    },
    "language_info": {
      "codemirror_mode": {
        "name": "ipython",
        "version": 3
      },
      "file_extension": ".py",
      "mimetype": "text/x-python",
      "name": "python",
      "nbconvert_exporter": "python",
      "pygments_lexer": "ipython3",
      "version": "3.7.6"
    },
    "colab": {
      "name": "labassignment9.ipynb",
      "provenance": []
    }
  },
  "nbformat": 4,
  "nbformat_minor": 0
}